{
 "cells": [
  {
   "cell_type": "markdown",
   "metadata": {},
   "source": [
    "## H-dence U-Net\n",
    "---\n",
    "\n",
    "参考\n",
    "- 論文 [H-DenseUNet: Hybrid Densely Connected UNet for Liver and Tumor Segmentation from CT Volumes](https://arxiv.org/pdf/1709.07330.pdf)\n",
    "- 公式 [GitHubリポジトリ](https://github.com/xmengli999/H-DenseUNet)"
   ]
  },
  {
   "cell_type": "code",
   "execution_count": null,
   "metadata": {},
   "outputs": [],
   "source": [
    "!ls ../Preprocess/datasets/train-label/\n",
    "!ls ../Preprocess/datasets/train-image/\n",
    "!ls ../Preprocess/datasets/test-label/\n",
    "!ls ../Preprocess/datasets/test-image/"
   ]
  },
  {
   "cell_type": "markdown",
   "metadata": {},
   "source": [
    "### 1. Setup Datasets"
   ]
  },
  {
   "cell_type": "code",
   "execution_count": null,
   "metadata": {},
   "outputs": [],
   "source": [
    "def read_mhd_files(path, excepts=None, choose=None):\n",
    "    '''\n",
    "    指定ディレクトリの mhd 形式のファイルを読み込み、\n",
    "    1-0. 指定されたファイル (ex. 2番目) を除くファイルリスト作成\n",
    "    1-1. 例の結合された配列 images の作成\n",
    "    1-2. images の各スライスごとに症例番号・スライス番号を格納した image_filesの作成\n",
    "    '''\n",
    "\n",
    "    if (excepts!=None):\n",
    "        \n",
    "        mhd_files = natsorted(glob.glob(path+'*.mhd'))\n",
    "        del mhd_files[excepts]\n",
    "        del mhd_files[excepts+1]\n",
    "        del mhd_files[excepts+2]\n",
    "\n",
    "        # 1症例目のみ配列作成のため、単体で読み込み\n",
    "        images = SimpleITK.GetArrayFromImage(SimpleITK.ReadImage(mhd_files[0]))\n",
    "        image_files = []\n",
    "        for i in range(images.shape[0]):\n",
    "            image_files.append(mhd_files[0].split('/')[-1].split('.')[0] +'-'+str(i))    \n",
    "\n",
    "        # 以降の症例\n",
    "        for mhd_name in mhd_files:\n",
    "            mhd_array = SimpleITK.GetArrayFromImage(SimpleITK.ReadImage(mhd_name))\n",
    "            images = np.concatenate([images,mhd_array])\n",
    "            for i in range(mhd_array.shape[0]):\n",
    "                image_files.append(mhd_name.split('/')[-1].split('.')[0] +'-'+str(i))     \n",
    "    \n",
    "    '''\n",
    "    指定ディレクトリの mhd 形式のファイルを読み込み、\n",
    "    1-0. 指定されたファイル ex. 2番目 のみの配列 images の作成\n",
    "    1-1. images の各スライスごとに症例番号・スライス番号を格納した image_filesの作成\n",
    "    '''\n",
    "    if(choose!=None):\n",
    "\n",
    "        mhd_files = natsorted(glob.glob(path+'*.mhd'))\n",
    "        mhd_files = mhd_files[choose:(choose+2)]\n",
    "        \n",
    "        # 1症例目のみ配列作成のため、単体で読み込み\n",
    "        images = SimpleITK.GetArrayFromImage(SimpleITK.ReadImage(mhd_files[0]))\n",
    "        image_files = []\n",
    "        for i in range(images.shape[0]):\n",
    "            image_files.append(mhd_files[0].split('/')[-1].split('.')[0] +'-'+str(i))    \n",
    "            \n",
    "        # 以降の症例\n",
    "        for mhd_name in mhd_files:\n",
    "            mhd_array = SimpleITK.GetArrayFromImage(SimpleITK.ReadImage(mhd_name))\n",
    "            images = np.concatenate([images,mhd_array])\n",
    "            for i in range(mhd_array.shape[0]):\n",
    "                image_files.append(mhd_name.split('/')[-1].split('.')[0] +'-'+str(i))     \n",
    "\n",
    "\n",
    "    return images\n",
    "\n",
    "def save_mhd_files(np_array, file_path):\n",
    "    img = sitk.GetImageFromArray(np_array,isVector=False)\n",
    "    img.SetSpacing([0.351562, 0.351562, 0.625]) #ElementType\n",
    "    img.SetOrigin([-60, -110, -175]) #offset\n",
    "    sitk.WriteImage(img, file_path)"
   ]
  },
  {
   "cell_type": "code",
   "execution_count": null,
   "metadata": {},
   "outputs": [],
   "source": [
    "import os\n",
    "import cv2\n",
    "import glob\n",
    "import SimpleITK\n",
    "import numpy as np\n",
    "from natsort import natsorted\n",
    "from ipywidgets import interact\n",
    "from matplotlib import pylab as plt\n",
    "from skimage.util import random_noise\n",
    "from tqdm import tqdm_notebook as tqdm\n",
    "%matplotlib inline\n",
    "\n",
    "hdd = '/mnt/Dataset/TN/datasets/'\n",
    "data_lists = natsorted(os.listdir('../Preprocess/GroundTruth/'))\n",
    "\n",
    "mhd_slices = []\n",
    "for index in natsorted(glob.glob('../Preprocess/GroundTruth/*/*[!2].mhd')):\n",
    "    mhd_slices.append(SimpleITK.GetArrayFromImage(SimpleITK.ReadImage(index)).shape[0])\n",
    "\n",
    "    \n",
    "class dataProcess(object):\n",
    "\n",
    "    def __init__(self, out_rows, out_cols, data_path  = \"../Preprocess/mhd/\",\n",
    "                                           label_path = \"../Preprocess/GT/*/\",\n",
    "                                           test_path  = \"../Preprocess/mhd/\",\n",
    "                                           testlabel_path = \"../Preprocess/GT/*/\"):\n",
    "\n",
    "        self.out_rows = out_rows\n",
    "        self.out_cols = out_cols\n",
    "        self.data_path = data_path\n",
    "        self.label_path = label_path\n",
    "        self.test_path = test_path\n",
    "        self.testlabel_path = testlabel_path\n",
    "\n",
    "    def _transform(self,imagein):\n",
    "        image = imagein\n",
    "        resize_image = cv2.resize(image, (512, 512), interpolation=cv2.INTER_NEAREST)\n",
    "        if self.__channels and len(image.shape) < 3:  # make sure images are of shape(h,w,3)\n",
    "            image = np.array([image for i in range(3)])\n",
    "        else:\n",
    "            resize_image = image\n",
    "        return np.array(resize_image)\n",
    "\n",
    "    def horizontal_flip(img):\n",
    "        return img[:,::-1]\n",
    "\n",
    "    def vertical_flip(img):\n",
    "        return img[::-1,:]\n",
    "        \n",
    "    def upscale1_1_img(img):\n",
    "        scale = 563     # floor(512*1.1)\n",
    "        img = cv2.resize(img.astype(np.float64), (scale,scale), interpolation = cv2.INTER_NEAREST)\n",
    "        img = img[25:537,25:537]\n",
    "        img = img.astype(np.int32)\n",
    "        return img\n",
    "\n",
    "    def addnoise(img):\n",
    "        mean = 0\n",
    "        sigma = 50\n",
    "        gauss = np.random.normal(mean,sigma,(512,512))\n",
    "        img = img.astype(np.float64) + gauss\n",
    "        img = img.astype(np.int32)\n",
    "        return img\n",
    "    \n",
    "    def create_train_data(self, excepts=0):\n",
    "        '''\n",
    "        data_pathに存在する各症例を読み込み、rate倍のデータ拡張を行ったものを訓練データセットとする\n",
    "        '''\n",
    "        tag = data_lists[excepts]+\"-\"+data_lists[excepts+1]+\"-\"+data_lists[excepts+2]\n",
    "        \n",
    "        if not os.path.exists(hdd+\"trainImages-except-\"+tag+\".npy\"):\n",
    "            print('Creating training images without #{}{}{} ...'.format(excepts, excepts+1, excepts+2))\n",
    "\n",
    "            imgdatas= read_mhd_files(self.data_path, excepts=excepts )\n",
    "            num = len(imgdatas)\n",
    "            rate = 4\n",
    "            final_images = np.ndarray([num*rate,1,512,512],'int32')\n",
    "            imglabels = read_mhd_files(self.label_path, excepts=excepts)\n",
    "            final_label = np.ndarray([num*rate,1,512,512],'int32')\n",
    "            for i in tqdm(range(num)):\n",
    "                final_images[rate*i,0] = imgdatas[i]\n",
    "                final_images[rate*i+1,0] = dataProcess.horizontal_flip(imgdatas[i])\n",
    "                final_images[rate*i+2,0] = dataProcess.vertical_flip(imgdatas[i])\n",
    "                final_images[rate*i+3,0] = dataProcess.upscale1_1_img(imgdatas[i])\n",
    "                final_label[rate*i,0] = imglabels[i]\n",
    "                final_label[rate*i+1,0] = dataProcess.horizontal_flip(imglabels[i])\n",
    "                final_label[rate*i+2,0] = dataProcess.vertical_flip(imglabels[i])\n",
    "                final_label[rate*i+3,0] = dataProcess.upscale1_1_img(imglabels[i])\n",
    "\n",
    "\n",
    "            print(final_images.shape)\n",
    "            print(final_label.shape)\n",
    "            np.save(hdd+\"trainImages-except-\"+data_lists[excepts]+\"-\"+data_lists[excepts+1]+\"-\"+data_lists[excepts+2]+\".npy\",final_images)\n",
    "            np.save(hdd+\"trainMasks-except-\"+data_lists[excepts]+\"-\"+data_lists[excepts+1]+\"-\"+data_lists[excepts+2]+\".npy\", final_label)\n",
    "\n",
    "            print('Saving to train.npy files done.')\n",
    "\n",
    "    def create_test_data(self, choose=0):\n",
    "        \n",
    "        tag = data_lists[choose]+\"-\"+data_lists[choose+1]+\"-\"+data_lists[choose+2]\n",
    "        \n",
    "        if not os.path.exists(hdd+\"testImages-\"+ tag +\".npy\"):\n",
    "            print(\"Creating testing images with #{}{}{} ...\".format(choose, choose+1, choose+2))\n",
    "\n",
    "            imgdatas =  read_mhd_files(self.test_path, choose=choose)\n",
    "            num = len(imgdatas)\n",
    "            final_images = np.ndarray([num, 1, 512, 512],'int32')\n",
    "\n",
    "            imglabels =  read_mhd_files(self.testlabel_path, choose=choose)\n",
    "            final_label = np.ndarray([num, 1, 512, 512],'int32')\n",
    "            for i in tqdm(range(num)):\n",
    "                final_images[i, 0] = imgdatas[i]\n",
    "                final_label[i, 0] = imglabels[i]\n",
    "            print(final_images.shape)\n",
    "            print(final_label.shape)\n",
    "            np.save(hdd+\"testImages-\"+ data_lists[choose]+\"-\"+data_lists[choose+1]+\"-\"+data_lists[choose+2]+\".npy\", final_images)\n",
    "            np.save(hdd+\"testMasks-\"+ data_lists[choose]+\"-\"+data_lists[choose+1]+\"-\"+data_lists[choose+2]+\".npy\", final_label)\n",
    "\n",
    "            print('Saving to test.npy files done.')\n",
    "\n",
    "\n",
    "\n",
    "            \n",
    "# datasets = dataProcess(512,512)\n",
    "# datasets.create_train_data(excepts=0)\n",
    "# datasets.create_test_data(choose=0)\n",
    "# datasets = None  # メモリ開放"
   ]
  },
  {
   "cell_type": "markdown",
   "metadata": {
    "toc-hr-collapsed": true
   },
   "source": [
    "### 2. Learning and prediction"
   ]
  },
  {
   "cell_type": "code",
   "execution_count": null,
   "metadata": {},
   "outputs": [],
   "source": [
    "from keras import backend as K\n",
    "\n",
    "# GPU1つのみの設定\n",
    "if 'tensorflow' == K.backend():\n",
    "    import tensorflow as tf\n",
    "from keras.backend.tensorflow_backend import set_session\n",
    "config = tf.ConfigProto()\n",
    "config.gpu_options.allow_growth = True\n",
    "config.gpu_options.visible_device_list = \"1\"\n",
    "set_session(tf.Session(config=config))"
   ]
  },
  {
   "cell_type": "code",
   "execution_count": null,
   "metadata": {},
   "outputs": [],
   "source": [
    "from __future__ import print_function\n",
    "import tensorflow as tf\n",
    "import numpy as np\n",
    "from keras.models import Model\n",
    "from keras.layers import Input, Conv2D, LeakyReLU, UpSampling2D, MaxPooling2D, concatenate, BatchNormalization, Dropout\n",
    "from keras import optimizers\n",
    "from keras.optimizers import Adam\n",
    "from keras.optimizers import SGD\n",
    "from keras.callbacks import ModelCheckpoint, LearningRateScheduler\n",
    "import SimpleITK as sitk\n",
    "\n",
    "K.set_image_dim_ordering('th')  # Theano dimension ordering in this code\n",
    "\n",
    "img_rows = 512\n",
    "img_cols = 512\n",
    "smooth = 1.\n",
    "\n",
    "\n",
    "\n",
    "def dice_coef(y_true, y_pred):\n",
    "    y_true_f = K.flatten(y_true)\n",
    "    y_pred_f = K.flatten(y_pred)\n",
    "    intersection = K.sum(y_true_f * y_pred_f)\n",
    "    return ((2.0 * intersection + smooth) / (K.sum(y_true_f) + K.sum(y_pred_f) + smooth))\n",
    "\n",
    "\n",
    "def dice_coef_np(y_true, y_pred):\n",
    "    y_true_f = y_true.flatten()\n",
    "    y_pred_f = y_pred.flatten()\n",
    "    intersection = np.sum(y_true_f * y_pred_f)\n",
    "    return (2.0 * intersection + smooth) / (np.sum(y_true_f) + np.sum(y_pred_f) + smooth)\n",
    "\n",
    "\n",
    "def dice_coef_loss(y_true, y_pred):\n",
    "    return 1.0-dice_coef(y_true, y_pred)\n",
    "\n",
    "\n",
    "def get_unet():\n",
    "    inputs = Input((1, img_rows, img_cols))\n",
    "    #conv1 = Convolution2D(32, 3, 3, activation='relu', border_mode='same')(inputs)\n",
    "    #conv1 = Convolution2D(32, 3, 3, activation='relu', border_mode='same')(conv1)\n",
    "    #pool1 = MaxPooling2D(pool_size=(2, 2))(conv1)\n",
    "    \n",
    "    conv1 = Conv2D(32, (3,3), padding = 'same')(inputs)\n",
    "    conv1 = LeakyReLU(alpha=0.2)(conv1)\n",
    "    #conv1 = BatchNormalization(momentum = 0.8)(conv1)\n",
    "    conv1 = Conv2D(32, (3,3), padding = 'same')(conv1)\n",
    "    conv1 = LeakyReLU(alpha=0.2)(conv1)\n",
    "    conv1 = BatchNormalization(momentum = 0.8)(conv1)\n",
    "    pool1 = MaxPooling2D(pool_size=(2, 2))(conv1)\n",
    "    \n",
    "    #conv2 = Convolution2D(64, 3, 3, activation='relu', border_mode='same')(pool1)\n",
    "    #conv2 = Convolution2D(64, 3, 3, activation='relu', border_mode='same')(conv2)\n",
    "    #pool2 = MaxPooling2D(pool_size=(2, 2))(conv2)\n",
    "\n",
    "    conv2 = Conv2D(64, (3,3), padding = 'same')(pool1)\n",
    "    conv2 = LeakyReLU(alpha=0.2)(conv2)\n",
    "    conv2 = BatchNormalization(momentum = 0.8)(conv2)\n",
    "    conv2 = Conv2D(64, (3,3), padding = 'same')(conv2)\n",
    "    conv2 = LeakyReLU(alpha=0.2)(conv2)\n",
    "    conv2 = BatchNormalization(momentum = 0.8)(conv2)\n",
    "    pool2 = MaxPooling2D(pool_size=(2, 2))(conv2)\n",
    "    \n",
    "    #conv3 = Convolution2D(128, 3, 3, activation='relu', border_mode='same')(pool2)\n",
    "    #conv3 = Convolution2D(128, 3, 3, activation='relu', border_mode='same')(conv3)\n",
    "    #pool3 = MaxPooling2D(pool_size=(2, 2))(conv3)\n",
    "\n",
    "    conv3 = Conv2D(128, (3,3), padding = 'same')(pool2)\n",
    "    conv3 = LeakyReLU(alpha=0.2)(conv3)\n",
    "    conv3 = BatchNormalization(momentum = 0.8)(conv3)\n",
    "    conv3 = Conv2D(128, (3,3), padding = 'same')(conv3)\n",
    "    conv3 = LeakyReLU(alpha=0.2)(conv3)\n",
    "    conv3 = BatchNormalization(momentum = 0.8)(conv3)    \n",
    "    pool3 = MaxPooling2D(pool_size=(2, 2))(conv3)\n",
    "    \n",
    "    #conv4 = Convolution2D(256, 3, 3, activation='relu', border_mode='same')(pool3)\n",
    "    #conv4 = Convolution2D(256, 3, 3, activation='relu', border_mode='same')(conv4)\n",
    "    #pool4 = MaxPooling2D(pool_size=(2, 2))(conv4)\n",
    "\n",
    "    conv4 = Conv2D(256, (3,3), padding = 'same')(pool3)\n",
    "    conv4 = LeakyReLU(alpha=0.2)(conv4)\n",
    "    conv4 = BatchNormalization(momentum = 0.8)(conv4)\n",
    "    conv4 = Conv2D(256, (3,3), padding = 'same')(conv4)\n",
    "    conv4 = LeakyReLU(alpha=0.2)(conv4)\n",
    "    conv4 = BatchNormalization(momentum = 0.8)(conv4)\n",
    "    pool4 = MaxPooling2D(pool_size=(2, 2))(conv4)\n",
    "    \n",
    "    #conv5 = Convolution2D(512, 3, 3, activation='relu', border_mode='same')(pool4)\n",
    "    #conv5 = Convolution2D(512, 3, 3, activation='relu', border_mode='same')(conv5)\n",
    "    conv5 = Conv2D(512, (3,3), padding = 'same')(pool4)\n",
    "    conv5 = LeakyReLU(alpha=0.2)(conv5)\n",
    "    conv5 = BatchNormalization(momentum = 0.8)(conv5)\n",
    "    conv5 = Conv2D(512, (3,3), padding = 'same')(conv5)\n",
    "    conv5 = LeakyReLU(alpha=0.2)(conv5)\n",
    "    conv5 = BatchNormalization(momentum = 0.8)(conv5)\n",
    "    ##up6 = merge([UpSampling2D(size=(2, 2))(conv5), conv4], mode='concat', concat_axis=1) %merge not exist in this version\n",
    "    #up6 = concatenate([UpSampling2D(size=(2, 2))(conv5), conv4], axis = 1)\n",
    "    #conv6 = Convolution2D(256, 3, 3, activation='relu', border_mode='same')(up6)\n",
    "    #conv6 = Convolution2D(256, 3, 3, activation='relu', border_mode='same')(conv6)\n",
    "\n",
    "    up6 = concatenate([UpSampling2D(size=(2, 2))(conv5), conv4], axis = 1)\n",
    "    conv6 = Conv2D(256, (3,3), padding = 'same', activation='relu')(up6)\n",
    "    #conv6 = Dropout(rate = 0.5)(conv6)   -> decrease the accuracy so removed \n",
    "    conv6 = BatchNormalization(momentum = 0.8)(conv6)\n",
    "    conv6 = Conv2D(256, (3,3), padding = 'same', activation='relu')(conv6)\n",
    "    #conv6 = Dropout(rate = 0.5)(conv6)   -> decrease the accuracy so removed \n",
    "    conv6 = BatchNormalization(momentum = 0.8)(conv6)\n",
    "\n",
    "    ## up7 = merge([UpSampling2D(size=(2, 2))(conv6), conv3], mode='concat', concat_axis=1)\n",
    "    #up7 = concatenate([UpSampling2D(size=(2, 2))(conv6), conv3], axis = 1)\n",
    "    #conv7 = Convolution2D(128, 3, 3, activation='relu', border_mode='same')(up7)\n",
    "    #conv7 = Convolution2D(128, 3, 3, activation='relu', border_mode='same')(conv7)\n",
    "\n",
    "    up7 = concatenate([UpSampling2D(size=(2, 2))(conv6), conv3], axis = 1)\n",
    "    conv7 = Conv2D(128, (3,3), padding = 'same', activation='relu')(up7)\n",
    "    conv7 = BatchNormalization(momentum = 0.8)(conv7)\n",
    "    conv7 = Conv2D(128, (3,3), padding = 'same', activation='relu')(conv7)\n",
    "    conv7 = BatchNormalization(momentum = 0.8)(conv7)\n",
    "    ##up8 = merge([UpSampling2D(size=(2, 2))(conv7), conv2], mode='concat', concat_axis=1)\n",
    "    #up8 = concatenate([UpSampling2D(size=(2, 2))(conv7), conv2], axis=1)\n",
    "    #conv8 = Convolution2D(64, 3, 3, activation='relu', border_mode='same')(up8)\n",
    "    #conv8 = Convolution2D(64, 3, 3, activation='relu', border_mode='same')(conv8)\n",
    "    up8 = concatenate([UpSampling2D(size=(2, 2))(conv7), conv2], axis = 1)\n",
    "    conv8 = Conv2D(64, (3,3), padding = 'same', activation='relu')(up8)\n",
    "    conv8 = BatchNormalization(momentum = 0.8)(conv8)\n",
    "    conv8 = Conv2D(64, (3,3), padding = 'same', activation='relu')(conv8)\n",
    "    conv8 = BatchNormalization(momentum = 0.8)(conv8)\n",
    "\n",
    "    ##up9 = merge([UpSampling2D(size=(2, 2))(conv8), conv1], mode='concat', concat_axis=1)\n",
    "    #up9 = concatenate([UpSampling2D(size=(2, 2))(conv8), conv1], axis=1)\n",
    "    #conv9 = Convolution2D(32, 3, 3, activation='relu', border_mode='same')(up9)\n",
    "    #conv9 = Convolution2D(32, 3, 3, activation='relu', border_mode='same')(conv9)\n",
    "    up9 = concatenate([UpSampling2D(size=(2, 2))(conv8), conv1], axis = 1)\n",
    "    conv9 = Conv2D(32, (3,3), padding = 'same', activation='relu')(up9)\n",
    "    conv9 = BatchNormalization(momentum = 0.8)(conv9)\n",
    "    conv9 = Conv2D(32, (3,3), padding = 'same', activation='relu')(conv9)\n",
    "    conv9 = BatchNormalization(momentum = 0.8)(conv9)\n",
    "    #conv10 = Convolution2D(1, 1, 1, activation='sigmoid')(conv9)\n",
    "    conv10 = Conv2D(1, (1, 1), activation='sigmoid')(conv9)\n",
    "\n",
    "    model = Model(inputs=inputs, outputs=conv10)\n",
    "\n",
    "    #model.compile(optimizer=Adam(lr=1.0e-5), loss=dice_coef_loss, metrics=[dice_coef])  #original\n",
    "    #model.compile(optimizer=Adam(lr=0.001, ), loss=dice_coef_loss, metrics=[dice_coef])\n",
    "    sgd = optimizers.SGD(lr=0.01, decay=1e-4, momentum=0.9, nesterov=True)\n",
    "    model.compile(optimizer=sgd, loss=dice_coef_loss, metrics=[dice_coef])\n",
    "    \n",
    "    #model.summary()\n",
    "    \n",
    "    return model\n",
    "\n",
    "\n",
    "def train(use_existing, combination=0):\n",
    "        \n",
    "    # --------------- Training ----------------- #\n",
    "    print('Loading train data...')\n",
    "    tag = data_lists[combination]+\"-\"+data_lists[combination+1]+\"-\"+data_lists[combination+2]\n",
    "\n",
    "    imgs_train = np.load(hdd+\"trainImages-except-\"+ tag +\".npy\").astype(np.float32)\n",
    "    imgs_mask_train = np.load(hdd+\"trainMasks-except-\"+ tag +\".npy\").astype(np.float32)\n",
    "\n",
    "    print('preprocessing train data...')\n",
    "\n",
    "    mean = np.mean(imgs_train)  # mean for data centering\n",
    "    std = np.std(imgs_train)  # std for data normalization\n",
    "\n",
    "    imgs_train -= mean  # images should already be standardized, but just in case\n",
    "    imgs_train /= std\n",
    "\n",
    "    print('constructing model...')\n",
    "\n",
    "    model = get_unet()\n",
    "    model_checkpoint = ModelCheckpoint('unet-'+tag+'.hdf5', monitor='loss', save_best_only=True)\n",
    "\n",
    "    if use_existing:\n",
    "        model.load_weights('./unet-'+tag+'.hdf5')\n",
    "\n",
    "    print('Fitting model...')\n",
    "\n",
    "    # add validation split\n",
    "    # model.fit(imgs_train, imgs_mask_train, batch_size=4, epochs=30, verbose=1, validation_split = 0.1, shuffle=True, callbacks=[model_checkpoint])\n",
    "    model.fit(imgs_train, imgs_mask_train, batch_size=4, epochs=20, verbose=1, validation_split = 0.1, shuffle=True, callbacks=[model_checkpoint])\n",
    "\n",
    "    \n",
    "    # plot figure\n",
    "    #     plt.plot(range(1, NUM_EPOCH+1), learning_history.history['dice_coef'], label=\"training\")\n",
    "    #     # plt.plot(range(1, NUM_EPOCH+1), learning_history.history['val_dice_coef'], label=\"validation\")\n",
    "    #     plt.xlabel('Epochs')\n",
    "    #     plt.ylabel('Accuracy')\n",
    "    #     plt.legend()\n",
    "    #     plt.ylim(0,1)\n",
    "    #     plt.grid(axis='y', color='lightgray')\n",
    "    #     plt.savefig('progress-'+str(combination)+'.png')\n",
    "    #     plt.clf()\n",
    "    \n",
    "def predict(use_existing, combination=0):\n",
    "\n",
    "    # --------------- Predict ----------------- #\n",
    "    print('Loading test data...')\n",
    "    \n",
    "    #tag = glob.glob(mydata.testlabel_path)[0].split('/')[-2]\n",
    "    tag = data_lists[combination]+\"-\"+data_lists[combination+1]+\"-\"+data_lists[combination+2]\n",
    "    imgs_test = np.load(hdd+\"testImages-\"+ tag +\".npy\").astype(np.float32)\n",
    "    imgs_mask = np.load(hdd+\"testMasks-\"+ tag +\".npy\").astype(np.float32)\n",
    "    \n",
    "    print('preprocessing test data...')\n",
    "\n",
    "    mean = np.mean(imgs_test)  # mean for data centering\n",
    "    std = np.std(imgs_test)  # std for data normalization\n",
    "    \n",
    "    imgs_test -= mean  # images should already be standardized, but just in case\n",
    "    imgs_test /= std      \n",
    "    \n",
    "    model = get_unet()\n",
    "    model.load_weights('./unet-'+tag+'.hdf5')\n",
    "   \n",
    "    num_test = len(imgs_test)\n",
    "    imgs_mask_test = np.ndarray([num_test, 1, 512, 512], dtype=np.float32)\n",
    "    for i in range(num_test):\n",
    "        imgs_mask_test[i] = model.predict([imgs_test[i:i + 1]], verbose=0)[0]\n",
    "            \n",
    "    np.save(tag+'_masksTestPredict.npy', imgs_mask_test)\n",
    "    mean = 0.0\n",
    "    for i in range(num_test):\n",
    "        mean += dice_coef_np(imgs_mask[i, 0], imgs_mask_test[i, 0])\n",
    "    mean /= num_test\n",
    "    print(\"Mean Dice Coeff : \", mean)\n",
    "    \n",
    "    total_img = np.reshape(imgs_mask_test,(num_test,512,512))\n",
    "    each_img1 = total_img[0:mhd_slices[combination]]\n",
    "    each_img2 = total_img[ mhd_slices[combination] : (mhd_slices[combination]+mhd_slices[combination+1])]\n",
    "    each_img3 = total_img[(mhd_slices[combination]+mhd_slices[combination+1]) : ]\n",
    "    \n",
    "    save_mhd_files(each_img1, './result/result_mask_'+data_lists[combination]  +'_{:.2f}dice.mhd'.format(mean))\n",
    "    save_mhd_files(each_img2, './result/result_mask_'+data_lists[combination+1]+'_{:.2f}dice.mhd'.format(mean))\n",
    "    save_mhd_files(each_img3, './result/result_mask_'+data_lists[combination+2]+'_{:.2f}dice.mhd'.format(mean))\n",
    "    \n",
    "    # imgs_mask_test = np.squeeze(imgs_mask_test, axis=3)\n",
    "    # np.save('imgs_mask_test.npy', imgs_mask_test)\n",
    "\n",
    "\n",
    "    \n",
    "# train_and_predict(False)\n",
    "\n",
    "\n",
    "\n",
    "\n",
    "\n",
    "# 3つおきに 0->3->6->9->12\n",
    "for index in range(0, len(os.listdir('../Preprocess/GroundTruth/')), 3):\n",
    "    # データセット逐次生成\n",
    "    datasets = dataProcess(512,512)\n",
    "    datasets.create_train_data(excepts=index)\n",
    "    datasets.create_test_data(choose=index)\n",
    "    datasets = None  # メモリ開放\n",
    "\n",
    "    train(False, combination=index)\n",
    "    predict(False, combination=index)\n",
    "\n"
   ]
  },
  {
   "cell_type": "markdown",
   "metadata": {},
   "source": [
    "### 3. Check Results"
   ]
  },
  {
   "cell_type": "code",
   "execution_count": 159,
   "metadata": {},
   "outputs": [
    {
     "data": {
      "text/plain": [
       "<Figure size 500x500 with 0 Axes>"
      ]
     },
     "metadata": {},
     "output_type": "display_data"
    },
    {
     "data": {
      "application/vnd.jupyter.widget-view+json": {
       "model_id": "0cc023a1a33f463e929e539ca70884e1",
       "version_major": 2,
       "version_minor": 0
      },
      "text/plain": [
       "interactive(children=(IntSlider(value=140, description='slices', max=192), Output()), _dom_classes=('widget-in…"
      ]
     },
     "metadata": {},
     "output_type": "display_data"
    }
   ],
   "source": [
    "import glob\n",
    "import SimpleITK\n",
    "from ipywidgets import interact\n",
    "import matplotlib.pyplot as plt\n",
    "%matplotlib inline\n",
    "\n",
    "number =0\n",
    "\n",
    "test  = SimpleITK.ReadImage(natsorted(glob.glob('../Preprocess/mhd/*.mhd'))[number])\n",
    "label = SimpleITK.ReadImage((natsorted(glob.glob('../Preprocess/GroundTruth/*/*[!2].mhd'))[:12])[number])\n",
    "pred  = SimpleITK.ReadImage(natsorted(glob.glob('./result/*.mhd'))[number])\n",
    "test_array  = SimpleITK.GetArrayFromImage(test)\n",
    "label_array = SimpleITK.GetArrayFromImage(label)\n",
    "pred_array  = SimpleITK.GetArrayFromImage(pred)\n",
    "\n",
    "\n",
    "plt.figure(figsize=(20, 20), dpi=25)\n",
    "plt.rcParams['figure.figsize'] = (15.0, 5.0)\n",
    "\n",
    "@interact(slices=(0,test_array.shape[0]-1))\n",
    "def plot_rolling_mean(slices=140):    \n",
    "    plt.subplot(131)\n",
    "    plt.imshow(test_array[slices, :, :])\n",
    "    plt.title('input')\n",
    "    plt.subplot(132)\n",
    "    plt.imshow(label_array[slices, :, :])\n",
    "    plt.title('GT')\n",
    "    plt.subplot(133)\n",
    "    plt.imshow(pred_array[slices, :, :])\n",
    "    plt.title('predict')\n",
    "    \n",
    "    plt.gray()\n",
    "    plt.show()\n"
   ]
  },
  {
   "cell_type": "markdown",
   "metadata": {},
   "source": [
    "### 1. fill xxx\n",
    "\n",
    "reference is : http://pynote.hatenablog.com/entry/opencv-findcontours"
   ]
  },
  {
   "cell_type": "code",
   "execution_count": 236,
   "metadata": {},
   "outputs": [
    {
     "data": {
      "text/plain": [
       "<Figure size 500x500 with 0 Axes>"
      ]
     },
     "metadata": {},
     "output_type": "display_data"
    },
    {
     "data": {
      "application/vnd.jupyter.widget-view+json": {
       "model_id": "84e90726230f4063a1767db01a2ec332",
       "version_major": 2,
       "version_minor": 0
      },
      "text/plain": [
       "interactive(children=(IntSlider(value=140, description='slices', max=192), Output()), _dom_classes=('widget-in…"
      ]
     },
     "metadata": {},
     "output_type": "display_data"
    }
   ],
   "source": [
    "import cv2\n",
    "import glob\n",
    "import SimpleITK\n",
    "from ipywidgets import interact\n",
    "import matplotlib.pyplot as plt\n",
    "%matplotlib inline\n",
    "\n",
    "\n",
    "test  = SimpleITK.ReadImage(natsorted(glob.glob('../Preprocess/mhd/*.mhd'))[0])\n",
    "label = SimpleITK.ReadImage((natsorted(glob.glob('../Preprocess/GroundTruth/*/*[2].mhd'))[:12])[0])\n",
    "test_array  = SimpleITK.GetArrayFromImage(test)\n",
    "label_array = SimpleITK.GetArrayFromImage(label)\n",
    "\n",
    "\n",
    "def fill_contour_image(contour_array):\n",
    "    # 1つめ\n",
    "    edge_array  = contour_array\n",
    "    image, contours, hierarchy = cv2.findContours( (edge_array[0])[:,:,np.newaxis].astype(np.uint8), cv2.RETR_CCOMP, cv2.CHAIN_APPROX_SIMPLE)\n",
    "    \n",
    "    external_contours = np.zeros(image.shape)\n",
    "    for i in range(len(contours)):\n",
    "        if hierarchy[0][i][3] == -1:\n",
    "            cv2.drawContours(external_contours, contours, i, 255, -1)\n",
    "    fill_array = np.reshape(external_contours, (1, 512,512))\n",
    "\n",
    "    # それ以降\n",
    "    for index in edge_array[1:]:\n",
    "        image, contours, hierarchy = cv2.findContours( index[:,:,np.newaxis].astype(np.uint8), cv2.RETR_CCOMP, cv2.CHAIN_APPROX_SIMPLE)\n",
    "        external_contours = np.zeros(image.shape)\n",
    "        for i in range(len(contours)):\n",
    "            if hierarchy[0][i][3] == -1:\n",
    "                cv2.drawContours(external_contours, contours, i, 255, -1)\n",
    "        fill_array = np.append(fill_array, np.reshape(external_contours, (1, 512,512)),axis=0)\n",
    "    return fill_array\n",
    "\n",
    "fill_array = fill_contour_image(label_array)\n",
    "\n",
    "\n",
    "# 表示\n",
    "plt.figure(figsize=(20, 20), dpi=25)\n",
    "plt.rcParams['figure.figsize'] = (15.0, 5.0)\n",
    "\n",
    "@interact(slices=(0,label_array.shape[0]-1))\n",
    "def plot_rolling_mean(slices=140):\n",
    "    plt.subplot(131)\n",
    "    plt.imshow(test_array[slices, :, :])\n",
    "    plt.title('image')\n",
    "    plt.subplot(132)\n",
    "    plt.imshow(label_array[slices, :, :])\n",
    "    plt.title('label')\n",
    "    plt.subplot(133)\n",
    "    plt.imshow(fill_array[slices, :, :])\n",
    "    plt.title('fill ver')\n",
    "    \n",
    "    plt.gray()\n",
    "    plt.show()"
   ]
  },
  {
   "cell_type": "code",
   "execution_count": 258,
   "metadata": {},
   "outputs": [
    {
     "name": "stdout",
     "output_type": "stream",
     "text": [
      "0\n",
      "1\n",
      "2\n",
      "3\n",
      "4\n",
      "5\n",
      "6\n",
      "7\n",
      "8\n",
      "9\n",
      "-\n",
      "10\n",
      "11\n"
     ]
    }
   ],
   "source": [
    "for index in range(10):\n",
    "    print(index)\n",
    "print('-')\n",
    "for index in range(10,12):\n",
    "    print(index)"
   ]
  },
  {
   "cell_type": "code",
   "execution_count": null,
   "metadata": {},
   "outputs": [
    {
     "name": "stdout",
     "output_type": "stream",
     "text": [
      "(193, 512, 512) (193, 512, 512)\n",
      "(169, 512, 512) (169, 512, 512)\n",
      "(185, 512, 512) (185, 512, 512)\n",
      "(185, 512, 512) (185, 512, 512)\n",
      "(217, 512, 512) (217, 512, 512)\n",
      "(209, 512, 512) (209, 512, 512)\n",
      "(185, 512, 512) (185, 512, 512)\n",
      "(193, 512, 512) (193, 512, 512)\n",
      "(177, 512, 512) (177, 512, 512)\n",
      "(177, 512, 512) (177, 512, 512)\n",
      "(233, 512, 512) (233, 512, 512)\n"
     ]
    }
   ],
   "source": [
    "GT2_lists = natsorted(glob.glob('../Preprocess/GroundTruth/*/*[2].mhd'))[:12]\n",
    "pred_lists = natsorted(glob.glob('./results/*.npy'))\n",
    "\n",
    "for index in range(10):\n",
    "    print(names[index])\n",
    "    \n",
    "    pred_array  = np.load(pred_lists[index])\n",
    "    pred_array -= np.min(pred_array)\n",
    "    pred_array /= np.max(pred_array)\n",
    "    pred_array = (pred_array * 256).astype('int64')\n",
    "    label_array = fill_contour_image( SimpleITK.GetArrayFromImage( SimpleITK.ReadImage(GT2_lists[index]) ) )\n",
    "    \n",
    "    for slices in range(label_array.shape[0]):\n",
    "        imgs = cv2.hconcat([ np.uint8(pred_array[slices,:,:]), np.uint8(label_array[slices,:,:]) ])\n",
    "        cv2.imwrite('../pix2pix/edges2heart/train/'+names[index]+'-'+str(slices)+'.png', cv2.cvtColor(imgs, cv2.COLOR_GRAY2BGR))\n",
    "\n",
    "for index in range(10,12):\n",
    "    print(names[index])\n",
    "\n",
    "    pred_array  = np.load(pred_lists[index])\n",
    "    pred_array -= np.min(pred_array)\n",
    "    pred_array /= np.max(pred_array)\n",
    "    pred_array = (pred_array * 256).astype('int64')\n",
    "    label_array = fill_contour_image( SimpleITK.GetArrayFromImage( SimpleITK.ReadImage(GT2_lists[index]) ) )\n",
    "        \n",
    "    for slices in range(label_array.shape[0]):\n",
    "        imgs = cv2.hconcat([ np.uint8(pred_array[slices,:,:]), np.uint8(label_array[slices,:,:]) ])\n",
    "        cv2.imwrite('../pix2pix/edges2heart/val/'+names[index]+'-'+str(slices)+'.png', cv2.cvtColor(imgs, cv2.COLOR_GRAY2BGR))\n",
    "    \n",
    "# @interact(slices=(0,pred_array.shape[0]-1))\n",
    "# def plot_rolling_mean(slices=140):\n",
    "#     plt.subplot(121)\n",
    "#     plt.imshow(pred_array[slices, :, :])\n",
    "#     plt.title('prediction')\n",
    "#     plt.subplot(122)\n",
    "#     plt.imshow(label_array[slices, :, :])\n",
    "#     plt.title('original')\n",
    "    \n",
    "#     plt.gray()\n",
    "#     plt.show()\n",
    "\n",
    "    \n",
    "    \n",
    "    \n",
    "# # make directory\n",
    "# save_dir = dir_name.replace('Dicom','png')\n",
    "# gt_path  = dir_name.replace('Dicom','GroundTruth')+'/*.mhd'\n",
    "\n",
    "# # adjust dicom value(-2000~3000) to png value(0~256)\n",
    "# d_array = d_array - np.min(d_array)\n",
    "# d_array = (d_array / np.max(d_array) *256).astype('int64')\n",
    "\n",
    "# try:\n",
    "#     if not os.path.exists(save_dir): os.makedirs(save_dir)\n",
    "\n",
    "#     gt_array = load_itk(natsorted(glob.glob(gt_path))[1])\n",
    "#     for slices in range(d_array.shape[2]):\n",
    "#         imgs = cv2.hconcat([ np.uint8(d_array[:,:,slices]), np.uint8(gt_array[slices,:,:]) ])\n",
    "#         cv2.imwrite(save_dir+'/'+str(slices)+'.png', cv2.cvtColor(imgs, cv2.COLOR_GRAY2BGR))\n",
    "# except:                    \n",
    "#     #traceback.print_exc()\n",
    "#     print(\"err >> \", gt_path)\n"
   ]
  },
  {
   "cell_type": "markdown",
   "metadata": {},
   "source": [
    "## test"
   ]
  },
  {
   "cell_type": "code",
   "execution_count": 224,
   "metadata": {},
   "outputs": [
    {
     "data": {
      "text/plain": [
       "(193, 512, 512)"
      ]
     },
     "execution_count": 224,
     "metadata": {},
     "output_type": "execute_result"
    }
   ],
   "source": [
    "np.load(names[0]+'_masksTestPredict.npy').shape"
   ]
  },
  {
   "cell_type": "code",
   "execution_count": 235,
   "metadata": {},
   "outputs": [
    {
     "name": "stdout",
     "output_type": "stream",
     "text": [
      "Loading test data...\n",
      "preprocessing test data...\n",
      "Mean Dice Coeff :  0.12082903779446058\n",
      "Loading test data...\n",
      "preprocessing test data...\n",
      "Mean Dice Coeff :  1.3551245840403803\n",
      "Loading test data...\n",
      "preprocessing test data...\n",
      "Mean Dice Coeff :  0.4183510668312803\n",
      "Loading test data...\n",
      "preprocessing test data...\n",
      "Mean Dice Coeff :  0.3943170750167385\n",
      "Loading test data...\n",
      "preprocessing test data...\n",
      "Mean Dice Coeff :  0.8720278831033743\n",
      "Loading test data...\n",
      "preprocessing test data...\n",
      "Mean Dice Coeff :  0.5467539005855225\n",
      "Loading test data...\n",
      "preprocessing test data...\n",
      "Mean Dice Coeff :  0.2687375113881732\n",
      "Loading test data...\n",
      "preprocessing test data...\n",
      "Mean Dice Coeff :  0.6541115683428124\n",
      "Loading test data...\n",
      "preprocessing test data...\n",
      "Mean Dice Coeff :  0.66315038940789\n",
      "Loading test data...\n",
      "preprocessing test data...\n",
      "Mean Dice Coeff :  0.5802012738300146\n",
      "Loading test data...\n",
      "preprocessing test data...\n",
      "Mean Dice Coeff :  0.2796288896219417\n",
      "Loading test data...\n",
      "preprocessing test data...\n",
      "Mean Dice Coeff :  0.2825337873868727\n"
     ]
    }
   ],
   "source": [
    "mhd_lists =  natsorted(glob.glob('../Preprocess/mhd/*.mhd'))\n",
    "GT_lists =  natsorted(glob.glob('../Preprocess/GroundTruth/*/*[!2].mhd'))\n",
    "names = natsorted(os.listdir('../Preprocess/GroundTruth/'))\n",
    "\n",
    "\n",
    "def predict(use_existing, number=0):\n",
    "\n",
    "    # --------------- Predict ----------------- #\n",
    "    print('Loading test data...')\n",
    "\n",
    "    tag = names[int(number/3)*3]+\"-\"+names[int(number/3)*3+1]+\"-\"+names[int(number/3)*3+2]\n",
    "    imgs_test = SimpleITK.GetArrayFromImage(SimpleITK.ReadImage(mhd_lists[number])).astype(np.float32)\n",
    "    imgs_mask = SimpleITK.GetArrayFromImage(SimpleITK.ReadImage(GT_lists[number])).astype(np.float32)\n",
    "\n",
    "    print('preprocessing test data...')\n",
    "\n",
    "    mean = np.mean(imgs_test)  # mean for data centering\n",
    "    std = np.std(imgs_test)  # std for data normalization\n",
    "\n",
    "    imgs_test -= mean  # images should already be standardized, but just in case\n",
    "    imgs_test /= std      \n",
    "\n",
    "    model = get_unet()\n",
    "    model.load_weights('./unet-'+tag+'.hdf5')\n",
    "\n",
    "    num_test = len(imgs_test)\n",
    "    imgs_mask_test = np.ndarray([num_test, 1, 512, 512], dtype=np.float32)\n",
    "    for i in range(num_test):\n",
    "        imgs_mask_test[i] = model.predict([imgs_test[i:i + 1][np.newaxis,:,:,:]], verbose=0)[0]\n",
    "\n",
    "    imgs_mask_test = np.reshape(imgs_mask_test,(num_test,512,512))\n",
    "    mean = 0.0\n",
    "    for i in range(num_test):\n",
    "        mean += dice_coef_np(imgs_mask[i], imgs_mask_test[i])\n",
    "    mean /= num_test\n",
    "    print(\"Mean Dice Coeff : \", mean)\n",
    "    np.save('./results/u-net_'+names[number]+'_predict_{:.2f}dice.npy'.format(mean), imgs_mask_test)\n",
    "\n",
    "    #save_mhd_files(total_img, './result/result_mask_'+names[number]  +'_{:.2f}dice.mhd'.format(mean))\n",
    "\n",
    "\n",
    "for num in range(12):\n",
    "    predict(False, number=num)\n"
   ]
  },
  {
   "cell_type": "code",
   "execution_count": 231,
   "metadata": {},
   "outputs": [
    {
     "data": {
      "text/plain": [
       "<Figure size 500x500 with 0 Axes>"
      ]
     },
     "metadata": {},
     "output_type": "display_data"
    },
    {
     "data": {
      "application/vnd.jupyter.widget-view+json": {
       "model_id": "b5e34f18996f4699be7341f6d5409077",
       "version_major": 2,
       "version_minor": 0
      },
      "text/plain": [
       "interactive(children=(IntSlider(value=140, description='slices', max=216), Output()), _dom_classes=('widget-in…"
      ]
     },
     "metadata": {},
     "output_type": "display_data"
    }
   ],
   "source": [
    "import glob\n",
    "import SimpleITK\n",
    "from ipywidgets import interact\n",
    "import matplotlib.pyplot as plt\n",
    "%matplotlib inline\n",
    "\n",
    "number =4\n",
    "\n",
    "test  = SimpleITK.ReadImage(natsorted(glob.glob('../Preprocess/mhd/*.mhd'))[number])\n",
    "label = SimpleITK.ReadImage((natsorted(glob.glob('../Preprocess/GroundTruth/*/*[!2].mhd'))[:12])[number])\n",
    "pred  = np.load('./results/'+names[number]+'_masksTestPredict.npy')\n",
    "test_array  = SimpleITK.GetArrayFromImage(test)\n",
    "label_array = SimpleITK.GetArrayFromImage(label)\n",
    "\n",
    "\n",
    "plt.figure(figsize=(20, 20), dpi=25)\n",
    "plt.rcParams['figure.figsize'] = (15.0, 5.0)\n",
    "\n",
    "@interact(slices=(0,test_array.shape[0]-1))\n",
    "def plot_rolling_mean(slices=140):    \n",
    "    plt.subplot(131)\n",
    "    plt.imshow(test_array[slices, :, :])\n",
    "    plt.title('input')\n",
    "    plt.subplot(132)\n",
    "    plt.imshow(label_array[slices, :, :])\n",
    "    plt.title('GT')\n",
    "    plt.subplot(133)\n",
    "    plt.imshow(pred_array[slices, :, :])\n",
    "    plt.title('predict')\n",
    "    \n",
    "    plt.gray()\n",
    "    plt.show()\n"
   ]
  },
  {
   "cell_type": "code",
   "execution_count": 202,
   "metadata": {},
   "outputs": [
    {
     "data": {
      "text/plain": [
       "1.0"
      ]
     },
     "execution_count": 202,
     "metadata": {},
     "output_type": "execute_result"
    }
   ],
   "source": [
    "1/3*3"
   ]
  },
  {
   "cell_type": "code",
   "execution_count": 172,
   "metadata": {},
   "outputs": [
    {
     "data": {
      "text/plain": [
       "['/mnt/Dataset/TN/datasets/testImages-L0-L1-L3.npy',\n",
       " '/mnt/Dataset/TN/datasets/testImages-L4-M0-M1.npy',\n",
       " '/mnt/Dataset/TN/datasets/testImages-M2-M3-M4.npy',\n",
       " '/mnt/Dataset/TN/datasets/testImages-M5-S0-S1.npy']"
      ]
     },
     "execution_count": 172,
     "metadata": {},
     "output_type": "execute_result"
    }
   ],
   "source": [
    "natsorted(glob.glob(hdd+\"testImages-*-*-*.npy\"))"
   ]
  },
  {
   "cell_type": "code",
   "execution_count": 173,
   "metadata": {},
   "outputs": [
    {
     "data": {
      "text/plain": [
       "[555, 587, 563, 587]"
      ]
     },
     "execution_count": 173,
     "metadata": {},
     "output_type": "execute_result"
    }
   ],
   "source": [
    "mhd_slices = []\n",
    "for index in natsorted(glob.glob('./*-*-*_*.npy')):\n",
    "    mhd_slices.append(np.load(index).shape[0])\n",
    "mhd_slices"
   ]
  },
  {
   "cell_type": "code",
   "execution_count": 189,
   "metadata": {},
   "outputs": [
    {
     "name": "stdout",
     "output_type": "stream",
     "text": [
      "../Preprocess/mhd/L0.mhd (193, 512, 512)\n",
      "../Preprocess/mhd/L1.mhd (169, 512, 512)\n",
      "../Preprocess/mhd/L3.mhd (185, 512, 512)\n",
      "../Preprocess/mhd/L4.mhd (185, 512, 512)\n",
      "../Preprocess/mhd/M0.mhd (217, 512, 512)\n",
      "../Preprocess/mhd/M1.mhd (209, 512, 512)\n",
      "../Preprocess/mhd/M2.mhd (185, 512, 512)\n",
      "../Preprocess/mhd/M3.mhd (193, 512, 512)\n",
      "../Preprocess/mhd/M4.mhd (177, 512, 512)\n",
      "../Preprocess/mhd/M5.mhd (177, 512, 512)\n",
      "../Preprocess/mhd/S0.mhd (233, 512, 512)\n",
      "../Preprocess/mhd/S1.mhd (185, 512, 512)\n",
      "../Preprocess/mhd/S2.mhd (201, 512, 512)\n",
      "../Preprocess/mhd/S3.mhd (201, 512, 512)\n",
      "../Preprocess/mhd/S4.mhd (193, 512, 512)\n",
      "(547, 512, 512)\n",
      "(539, 512, 512)\n",
      "(587, 512, 512)\n",
      "(611, 512, 512)\n",
      "(611, 512, 512)\n"
     ]
    }
   ],
   "source": [
    "data_lists =  natsorted(glob.glob('../Preprocess/mhd/*.mhd'))\n",
    "for index in data_lists:\n",
    "    print(index, SimpleITK.GetArrayFromImage(SimpleITK.ReadImage(index)).shape)\n",
    "\n",
    "\n",
    "for i in range(0,5):\n",
    "    images = SimpleITK.GetArrayFromImage(SimpleITK.ReadImage(data_lists[i]))\n",
    "\n",
    "    for index in data_lists[i+1:i+3]:\n",
    "        images = np.append(images,SimpleITK.GetArrayFromImage(SimpleITK.ReadImage(index)),axis=0)\n",
    "\n",
    "    print(images.shape)\n",
    "    \n",
    "    "
   ]
  },
  {
   "cell_type": "code",
   "execution_count": 190,
   "metadata": {},
   "outputs": [
    {
     "data": {
      "text/plain": [
       "547"
      ]
     },
     "execution_count": 190,
     "metadata": {},
     "output_type": "execute_result"
    }
   ],
   "source": [
    "193+169+185"
   ]
  },
  {
   "cell_type": "code",
   "execution_count": 233,
   "metadata": {},
   "outputs": [
    {
     "name": "stdout",
     "output_type": "stream",
     "text": [
      "0.01\n"
     ]
    }
   ],
   "source": [
    "a=0.005\n",
    "print('{:.2f}'.format(a))"
   ]
  },
  {
   "cell_type": "code",
   "execution_count": null,
   "metadata": {},
   "outputs": [],
   "source": [
    "lists= natsorted(glob.glob(\"./*Predict.npy\"))\n",
    "np.load(lists[0])"
   ]
  },
  {
   "cell_type": "code",
   "execution_count": null,
   "metadata": {},
   "outputs": [],
   "source": [
    "a = []\n",
    "for index in natsorted(glob.glob('../Preprocess/GroundTruth/*/*.mhd')):\n",
    "    a.append(SimpleITK.GetArrayFromImage(SimpleITK.ReadImage(index)).shape[0])"
   ]
  },
  {
   "cell_type": "code",
   "execution_count": null,
   "metadata": {},
   "outputs": [],
   "source": [
    "natsorted(glob.glob(hdd+\"*-*-*-*.npy\"))"
   ]
  },
  {
   "cell_type": "code",
   "execution_count": null,
   "metadata": {},
   "outputs": [],
   "source": [
    "del a[1:3]"
   ]
  },
  {
   "cell_type": "code",
   "execution_count": null,
   "metadata": {},
   "outputs": [],
   "source": [
    "test_array.shape"
   ]
  },
  {
   "cell_type": "code",
   "execution_count": null,
   "metadata": {},
   "outputs": [],
   "source": [
    "for index in range(0,len(os.listdir('../Preprocess/GroundTruth/')),3):\n",
    "    print (index)"
   ]
  },
  {
   "cell_type": "code",
   "execution_count": 41,
   "metadata": {},
   "outputs": [],
   "source": []
  },
  {
   "cell_type": "code",
   "execution_count": 98,
   "metadata": {},
   "outputs": [
    {
     "data": {
      "text/plain": [
       "'L0'"
      ]
     },
     "execution_count": 98,
     "metadata": {},
     "output_type": "execute_result"
    }
   ],
   "source": [
    "natsorted(glob.glob('../Preprocess/GroundTruth/*/*[2].mhd'))[:12][0].split('/')[-2]"
   ]
  },
  {
   "cell_type": "code",
   "execution_count": 69,
   "metadata": {},
   "outputs": [],
   "source": [
    "image, contours, hierarchy = cv2.findContours( (fill_array[100])[:,:,np.newaxis].astype(np.uint8), cv2.RETR_CCOMP, cv2.CHAIN_APPROX_SIMPLE)"
   ]
  },
  {
   "cell_type": "code",
   "execution_count": 174,
   "metadata": {},
   "outputs": [
    {
     "data": {
      "text/plain": [
       "['L0',\n",
       " 'L1',\n",
       " 'L3',\n",
       " 'L4',\n",
       " 'M0',\n",
       " 'M1',\n",
       " 'M2',\n",
       " 'M3',\n",
       " 'M4',\n",
       " 'M5',\n",
       " 'S0',\n",
       " 'S1',\n",
       " 'S2',\n",
       " 'S3',\n",
       " 'S4']"
      ]
     },
     "execution_count": 174,
     "metadata": {},
     "output_type": "execute_result"
    }
   ],
   "source": [
    "natsorted(os.listdir('../Preprocess/GroundTruth/'))"
   ]
  },
  {
   "cell_type": "code",
   "execution_count": 175,
   "metadata": {},
   "outputs": [
    {
     "data": {
      "text/plain": [
       "['../Preprocess/mhd/L0.mhd',\n",
       " '../Preprocess/mhd/L1.mhd',\n",
       " '../Preprocess/mhd/L3.mhd',\n",
       " '../Preprocess/mhd/L4.mhd',\n",
       " '../Preprocess/mhd/M0.mhd',\n",
       " '../Preprocess/mhd/M1.mhd',\n",
       " '../Preprocess/mhd/M2.mhd',\n",
       " '../Preprocess/mhd/M3.mhd',\n",
       " '../Preprocess/mhd/M4.mhd',\n",
       " '../Preprocess/mhd/M5.mhd',\n",
       " '../Preprocess/mhd/S0.mhd',\n",
       " '../Preprocess/mhd/S1.mhd',\n",
       " '../Preprocess/mhd/S2.mhd',\n",
       " '../Preprocess/mhd/S3.mhd',\n",
       " '../Preprocess/mhd/S4.mhd']"
      ]
     },
     "execution_count": 175,
     "metadata": {},
     "output_type": "execute_result"
    }
   ],
   "source": []
  },
  {
   "cell_type": "code",
   "execution_count": null,
   "metadata": {},
   "outputs": [],
   "source": []
  }
 ],
 "metadata": {
  "kernelspec": {
   "display_name": "TF2-NT",
   "language": "python",
   "name": "tf2-nt"
  },
  "language_info": {
   "codemirror_mode": {
    "name": "ipython",
    "version": 3
   },
   "file_extension": ".py",
   "mimetype": "text/x-python",
   "name": "python",
   "nbconvert_exporter": "python",
   "pygments_lexer": "ipython3",
   "version": "3.6.8"
  }
 },
 "nbformat": 4,
 "nbformat_minor": 2
}
